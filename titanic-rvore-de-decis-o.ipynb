{
 "cells": [
  {
   "cell_type": "markdown",
   "id": "df98d7d5",
   "metadata": {
    "papermill": {
     "duration": 0.013856,
     "end_time": "2022-07-11T03:39:24.869837",
     "exception": false,
     "start_time": "2022-07-11T03:39:24.855981",
     "status": "completed"
    },
    "tags": []
   },
   "source": [
    "Neste notebook usei o conjunto de dados da competição Titanic para treinar árvore de decisão.\n"
   ]
  },
  {
   "cell_type": "code",
   "execution_count": 1,
   "id": "66aff1cc",
   "metadata": {
    "execution": {
     "iopub.execute_input": "2022-07-11T03:39:24.898104Z",
     "iopub.status.busy": "2022-07-11T03:39:24.897526Z",
     "iopub.status.idle": "2022-07-11T03:39:26.523691Z",
     "shell.execute_reply": "2022-07-11T03:39:26.522392Z"
    },
    "papermill": {
     "duration": 1.644966,
     "end_time": "2022-07-11T03:39:26.527480",
     "exception": false,
     "start_time": "2022-07-11T03:39:24.882514",
     "status": "completed"
    },
    "tags": []
   },
   "outputs": [
    {
     "name": "stdout",
     "output_type": "stream",
     "text": [
      "/kaggle/input/titanic/train.csv\n",
      "/kaggle/input/titanic/test.csv\n",
      "/kaggle/input/titanic/gender_submission.csv\n"
     ]
    }
   ],
   "source": [
    "import pandas as pd\n",
    "import matplotlib.pyplot as plt\n",
    "import numpy as np\n",
    "import seaborn as sns\n",
    "from sklearn import tree\n",
    "from sklearn.tree import DecisionTreeClassifier\n",
    "import matplotlib.pyplot as plt\n",
    "from sklearn.model_selection import train_test_split\n",
    "from sklearn.datasets import make_classification\n",
    "from sklearn.metrics import accuracy_score\n",
    "from sklearn.metrics import plot_confusion_matrix\n",
    "from sklearn.model_selection import train_test_split\n",
    "\n",
    "\n",
    "import os\n",
    "for dirname, _, filenames in os.walk('/kaggle/input'):\n",
    "    for filename in filenames:\n",
    "        print(os.path.join(dirname, filename))"
   ]
  },
  {
   "cell_type": "markdown",
   "id": "cd52e733",
   "metadata": {
    "papermill": {
     "duration": 0.012476,
     "end_time": "2022-07-11T03:39:26.553008",
     "exception": false,
     "start_time": "2022-07-11T03:39:26.540532",
     "status": "completed"
    },
    "tags": []
   },
   "source": [
    "Exploração dos dados\n",
    "Manipulação e limpeza dos dados"
   ]
  },
  {
   "cell_type": "code",
   "execution_count": 2,
   "id": "60a30854",
   "metadata": {
    "execution": {
     "iopub.execute_input": "2022-07-11T03:39:26.580035Z",
     "iopub.status.busy": "2022-07-11T03:39:26.579627Z",
     "iopub.status.idle": "2022-07-11T03:39:26.609470Z",
     "shell.execute_reply": "2022-07-11T03:39:26.608244Z"
    },
    "papermill": {
     "duration": 0.04717,
     "end_time": "2022-07-11T03:39:26.612351",
     "exception": false,
     "start_time": "2022-07-11T03:39:26.565181",
     "status": "completed"
    },
    "tags": []
   },
   "outputs": [],
   "source": [
    "arquivo_train=pd.read_csv('/kaggle/input/titanic/train.csv')\n",
    "arquivo_test=pd.read_csv('/kaggle/input/titanic/test.csv')"
   ]
  },
  {
   "cell_type": "code",
   "execution_count": 3,
   "id": "8dc3486a",
   "metadata": {
    "execution": {
     "iopub.execute_input": "2022-07-11T03:39:26.640044Z",
     "iopub.status.busy": "2022-07-11T03:39:26.639684Z",
     "iopub.status.idle": "2022-07-11T03:39:26.681621Z",
     "shell.execute_reply": "2022-07-11T03:39:26.680289Z"
    },
    "papermill": {
     "duration": 0.060003,
     "end_time": "2022-07-11T03:39:26.685143",
     "exception": false,
     "start_time": "2022-07-11T03:39:26.625140",
     "status": "completed"
    },
    "tags": []
   },
   "outputs": [
    {
     "name": "stdout",
     "output_type": "stream",
     "text": [
      "<class 'pandas.core.frame.DataFrame'>\n",
      "RangeIndex: 891 entries, 0 to 890\n",
      "Data columns (total 12 columns):\n",
      " #   Column       Non-Null Count  Dtype  \n",
      "---  ------       --------------  -----  \n",
      " 0   PassengerId  891 non-null    int64  \n",
      " 1   Survived     891 non-null    int64  \n",
      " 2   Pclass       891 non-null    int64  \n",
      " 3   Name         891 non-null    object \n",
      " 4   Sex          891 non-null    object \n",
      " 5   Age          714 non-null    float64\n",
      " 6   SibSp        891 non-null    int64  \n",
      " 7   Parch        891 non-null    int64  \n",
      " 8   Ticket       891 non-null    object \n",
      " 9   Fare         891 non-null    float64\n",
      " 10  Cabin        204 non-null    object \n",
      " 11  Embarked     889 non-null    object \n",
      "dtypes: float64(2), int64(5), object(5)\n",
      "memory usage: 83.7+ KB\n",
      "<class 'pandas.core.frame.DataFrame'>\n",
      "RangeIndex: 418 entries, 0 to 417\n",
      "Data columns (total 11 columns):\n",
      " #   Column       Non-Null Count  Dtype  \n",
      "---  ------       --------------  -----  \n",
      " 0   PassengerId  418 non-null    int64  \n",
      " 1   Pclass       418 non-null    int64  \n",
      " 2   Name         418 non-null    object \n",
      " 3   Sex          418 non-null    object \n",
      " 4   Age          332 non-null    float64\n",
      " 5   SibSp        418 non-null    int64  \n",
      " 6   Parch        418 non-null    int64  \n",
      " 7   Ticket       418 non-null    object \n",
      " 8   Fare         417 non-null    float64\n",
      " 9   Cabin        91 non-null     object \n",
      " 10  Embarked     418 non-null    object \n",
      "dtypes: float64(2), int64(4), object(5)\n",
      "memory usage: 36.0+ KB\n"
     ]
    },
    {
     "data": {
      "text/plain": [
       "(None, None)"
      ]
     },
     "execution_count": 3,
     "metadata": {},
     "output_type": "execute_result"
    }
   ],
   "source": [
    "arquivo_train.info(),arquivo_test.info()"
   ]
  },
  {
   "cell_type": "code",
   "execution_count": 4,
   "id": "c65faa22",
   "metadata": {
    "execution": {
     "iopub.execute_input": "2022-07-11T03:39:26.713106Z",
     "iopub.status.busy": "2022-07-11T03:39:26.712718Z",
     "iopub.status.idle": "2022-07-11T03:39:26.739718Z",
     "shell.execute_reply": "2022-07-11T03:39:26.738883Z"
    },
    "papermill": {
     "duration": 0.043889,
     "end_time": "2022-07-11T03:39:26.741994",
     "exception": false,
     "start_time": "2022-07-11T03:39:26.698105",
     "status": "completed"
    },
    "tags": []
   },
   "outputs": [
    {
     "data": {
      "text/html": [
       "<div>\n",
       "<style scoped>\n",
       "    .dataframe tbody tr th:only-of-type {\n",
       "        vertical-align: middle;\n",
       "    }\n",
       "\n",
       "    .dataframe tbody tr th {\n",
       "        vertical-align: top;\n",
       "    }\n",
       "\n",
       "    .dataframe thead th {\n",
       "        text-align: right;\n",
       "    }\n",
       "</style>\n",
       "<table border=\"1\" class=\"dataframe\">\n",
       "  <thead>\n",
       "    <tr style=\"text-align: right;\">\n",
       "      <th></th>\n",
       "      <th>PassengerId</th>\n",
       "      <th>Survived</th>\n",
       "      <th>Pclass</th>\n",
       "      <th>Name</th>\n",
       "      <th>Sex</th>\n",
       "      <th>Age</th>\n",
       "      <th>SibSp</th>\n",
       "      <th>Parch</th>\n",
       "      <th>Ticket</th>\n",
       "      <th>Fare</th>\n",
       "      <th>Cabin</th>\n",
       "      <th>Embarked</th>\n",
       "    </tr>\n",
       "  </thead>\n",
       "  <tbody>\n",
       "    <tr>\n",
       "      <th>0</th>\n",
       "      <td>1</td>\n",
       "      <td>0</td>\n",
       "      <td>3</td>\n",
       "      <td>Braund, Mr. Owen Harris</td>\n",
       "      <td>male</td>\n",
       "      <td>22.0</td>\n",
       "      <td>1</td>\n",
       "      <td>0</td>\n",
       "      <td>A/5 21171</td>\n",
       "      <td>7.2500</td>\n",
       "      <td>NaN</td>\n",
       "      <td>S</td>\n",
       "    </tr>\n",
       "    <tr>\n",
       "      <th>1</th>\n",
       "      <td>2</td>\n",
       "      <td>1</td>\n",
       "      <td>1</td>\n",
       "      <td>Cumings, Mrs. John Bradley (Florence Briggs Th...</td>\n",
       "      <td>female</td>\n",
       "      <td>38.0</td>\n",
       "      <td>1</td>\n",
       "      <td>0</td>\n",
       "      <td>PC 17599</td>\n",
       "      <td>71.2833</td>\n",
       "      <td>C85</td>\n",
       "      <td>C</td>\n",
       "    </tr>\n",
       "    <tr>\n",
       "      <th>2</th>\n",
       "      <td>3</td>\n",
       "      <td>1</td>\n",
       "      <td>3</td>\n",
       "      <td>Heikkinen, Miss. Laina</td>\n",
       "      <td>female</td>\n",
       "      <td>26.0</td>\n",
       "      <td>0</td>\n",
       "      <td>0</td>\n",
       "      <td>STON/O2. 3101282</td>\n",
       "      <td>7.9250</td>\n",
       "      <td>NaN</td>\n",
       "      <td>S</td>\n",
       "    </tr>\n",
       "    <tr>\n",
       "      <th>3</th>\n",
       "      <td>4</td>\n",
       "      <td>1</td>\n",
       "      <td>1</td>\n",
       "      <td>Futrelle, Mrs. Jacques Heath (Lily May Peel)</td>\n",
       "      <td>female</td>\n",
       "      <td>35.0</td>\n",
       "      <td>1</td>\n",
       "      <td>0</td>\n",
       "      <td>113803</td>\n",
       "      <td>53.1000</td>\n",
       "      <td>C123</td>\n",
       "      <td>S</td>\n",
       "    </tr>\n",
       "    <tr>\n",
       "      <th>4</th>\n",
       "      <td>5</td>\n",
       "      <td>0</td>\n",
       "      <td>3</td>\n",
       "      <td>Allen, Mr. William Henry</td>\n",
       "      <td>male</td>\n",
       "      <td>35.0</td>\n",
       "      <td>0</td>\n",
       "      <td>0</td>\n",
       "      <td>373450</td>\n",
       "      <td>8.0500</td>\n",
       "      <td>NaN</td>\n",
       "      <td>S</td>\n",
       "    </tr>\n",
       "    <tr>\n",
       "      <th>5</th>\n",
       "      <td>6</td>\n",
       "      <td>0</td>\n",
       "      <td>3</td>\n",
       "      <td>Moran, Mr. James</td>\n",
       "      <td>male</td>\n",
       "      <td>NaN</td>\n",
       "      <td>0</td>\n",
       "      <td>0</td>\n",
       "      <td>330877</td>\n",
       "      <td>8.4583</td>\n",
       "      <td>NaN</td>\n",
       "      <td>Q</td>\n",
       "    </tr>\n",
       "    <tr>\n",
       "      <th>6</th>\n",
       "      <td>7</td>\n",
       "      <td>0</td>\n",
       "      <td>1</td>\n",
       "      <td>McCarthy, Mr. Timothy J</td>\n",
       "      <td>male</td>\n",
       "      <td>54.0</td>\n",
       "      <td>0</td>\n",
       "      <td>0</td>\n",
       "      <td>17463</td>\n",
       "      <td>51.8625</td>\n",
       "      <td>E46</td>\n",
       "      <td>S</td>\n",
       "    </tr>\n",
       "    <tr>\n",
       "      <th>7</th>\n",
       "      <td>8</td>\n",
       "      <td>0</td>\n",
       "      <td>3</td>\n",
       "      <td>Palsson, Master. Gosta Leonard</td>\n",
       "      <td>male</td>\n",
       "      <td>2.0</td>\n",
       "      <td>3</td>\n",
       "      <td>1</td>\n",
       "      <td>349909</td>\n",
       "      <td>21.0750</td>\n",
       "      <td>NaN</td>\n",
       "      <td>S</td>\n",
       "    </tr>\n",
       "    <tr>\n",
       "      <th>8</th>\n",
       "      <td>9</td>\n",
       "      <td>1</td>\n",
       "      <td>3</td>\n",
       "      <td>Johnson, Mrs. Oscar W (Elisabeth Vilhelmina Berg)</td>\n",
       "      <td>female</td>\n",
       "      <td>27.0</td>\n",
       "      <td>0</td>\n",
       "      <td>2</td>\n",
       "      <td>347742</td>\n",
       "      <td>11.1333</td>\n",
       "      <td>NaN</td>\n",
       "      <td>S</td>\n",
       "    </tr>\n",
       "    <tr>\n",
       "      <th>9</th>\n",
       "      <td>10</td>\n",
       "      <td>1</td>\n",
       "      <td>2</td>\n",
       "      <td>Nasser, Mrs. Nicholas (Adele Achem)</td>\n",
       "      <td>female</td>\n",
       "      <td>14.0</td>\n",
       "      <td>1</td>\n",
       "      <td>0</td>\n",
       "      <td>237736</td>\n",
       "      <td>30.0708</td>\n",
       "      <td>NaN</td>\n",
       "      <td>C</td>\n",
       "    </tr>\n",
       "  </tbody>\n",
       "</table>\n",
       "</div>"
      ],
      "text/plain": [
       "   PassengerId  Survived  Pclass  \\\n",
       "0            1         0       3   \n",
       "1            2         1       1   \n",
       "2            3         1       3   \n",
       "3            4         1       1   \n",
       "4            5         0       3   \n",
       "5            6         0       3   \n",
       "6            7         0       1   \n",
       "7            8         0       3   \n",
       "8            9         1       3   \n",
       "9           10         1       2   \n",
       "\n",
       "                                                Name     Sex   Age  SibSp  \\\n",
       "0                            Braund, Mr. Owen Harris    male  22.0      1   \n",
       "1  Cumings, Mrs. John Bradley (Florence Briggs Th...  female  38.0      1   \n",
       "2                             Heikkinen, Miss. Laina  female  26.0      0   \n",
       "3       Futrelle, Mrs. Jacques Heath (Lily May Peel)  female  35.0      1   \n",
       "4                           Allen, Mr. William Henry    male  35.0      0   \n",
       "5                                   Moran, Mr. James    male   NaN      0   \n",
       "6                            McCarthy, Mr. Timothy J    male  54.0      0   \n",
       "7                     Palsson, Master. Gosta Leonard    male   2.0      3   \n",
       "8  Johnson, Mrs. Oscar W (Elisabeth Vilhelmina Berg)  female  27.0      0   \n",
       "9                Nasser, Mrs. Nicholas (Adele Achem)  female  14.0      1   \n",
       "\n",
       "   Parch            Ticket     Fare Cabin Embarked  \n",
       "0      0         A/5 21171   7.2500   NaN        S  \n",
       "1      0          PC 17599  71.2833   C85        C  \n",
       "2      0  STON/O2. 3101282   7.9250   NaN        S  \n",
       "3      0            113803  53.1000  C123        S  \n",
       "4      0            373450   8.0500   NaN        S  \n",
       "5      0            330877   8.4583   NaN        Q  \n",
       "6      0             17463  51.8625   E46        S  \n",
       "7      1            349909  21.0750   NaN        S  \n",
       "8      2            347742  11.1333   NaN        S  \n",
       "9      0            237736  30.0708   NaN        C  "
      ]
     },
     "execution_count": 4,
     "metadata": {},
     "output_type": "execute_result"
    }
   ],
   "source": [
    "train_df=pd.DataFrame(arquivo_train)\n",
    "test_df=pd.DataFrame(arquivo_test)\n",
    "train_df.head(10)"
   ]
  },
  {
   "cell_type": "markdown",
   "id": "53c4a056",
   "metadata": {
    "papermill": {
     "duration": 0.012476,
     "end_time": "2022-07-11T03:39:26.767629",
     "exception": false,
     "start_time": "2022-07-11T03:39:26.755153",
     "status": "completed"
    },
    "tags": []
   },
   "source": [
    "1. Manipulação e limpeza dos dados"
   ]
  },
  {
   "cell_type": "code",
   "execution_count": 5,
   "id": "d2c53341",
   "metadata": {
    "execution": {
     "iopub.execute_input": "2022-07-11T03:39:26.795826Z",
     "iopub.status.busy": "2022-07-11T03:39:26.794678Z",
     "iopub.status.idle": "2022-07-11T03:39:26.803332Z",
     "shell.execute_reply": "2022-07-11T03:39:26.802298Z"
    },
    "papermill": {
     "duration": 0.025235,
     "end_time": "2022-07-11T03:39:26.805730",
     "exception": false,
     "start_time": "2022-07-11T03:39:26.780495",
     "status": "completed"
    },
    "tags": []
   },
   "outputs": [],
   "source": [
    "train_df['Sex']=train_df['Sex'].replace('female',0).replace('male',1)\n",
    "test_df['Sex']=test_df['Sex'].replace('female',0).replace('male',1)\n",
    "#Todos os passageiros do gênero feminino está repesentado por número 0 e masculino 1"
   ]
  },
  {
   "cell_type": "code",
   "execution_count": 6,
   "id": "46be27b4",
   "metadata": {
    "execution": {
     "iopub.execute_input": "2022-07-11T03:39:26.833427Z",
     "iopub.status.busy": "2022-07-11T03:39:26.832394Z",
     "iopub.status.idle": "2022-07-11T03:39:26.840527Z",
     "shell.execute_reply": "2022-07-11T03:39:26.839386Z"
    },
    "papermill": {
     "duration": 0.024758,
     "end_time": "2022-07-11T03:39:26.843113",
     "exception": false,
     "start_time": "2022-07-11T03:39:26.818355",
     "status": "completed"
    },
    "tags": []
   },
   "outputs": [],
   "source": [
    "dummies_train=pd.get_dummies(train_df['Embarked'])\n",
    "dummies_test=pd.get_dummies(test_df['Embarked'])\n"
   ]
  },
  {
   "cell_type": "code",
   "execution_count": 7,
   "id": "1e7f3e1d",
   "metadata": {
    "execution": {
     "iopub.execute_input": "2022-07-11T03:39:26.870753Z",
     "iopub.status.busy": "2022-07-11T03:39:26.870114Z",
     "iopub.status.idle": "2022-07-11T03:39:26.875285Z",
     "shell.execute_reply": "2022-07-11T03:39:26.874110Z"
    },
    "papermill": {
     "duration": 0.021767,
     "end_time": "2022-07-11T03:39:26.877653",
     "exception": false,
     "start_time": "2022-07-11T03:39:26.855886",
     "status": "completed"
    },
    "tags": []
   },
   "outputs": [],
   "source": [
    "dummies_train=pd.DataFrame(dummies_train)\n",
    "dummies_test=pd.DataFrame(dummies_test)"
   ]
  },
  {
   "cell_type": "code",
   "execution_count": 8,
   "id": "82273436",
   "metadata": {
    "execution": {
     "iopub.execute_input": "2022-07-11T03:39:26.905374Z",
     "iopub.status.busy": "2022-07-11T03:39:26.904231Z",
     "iopub.status.idle": "2022-07-11T03:39:26.916547Z",
     "shell.execute_reply": "2022-07-11T03:39:26.915574Z"
    },
    "papermill": {
     "duration": 0.028631,
     "end_time": "2022-07-11T03:39:26.918875",
     "exception": false,
     "start_time": "2022-07-11T03:39:26.890244",
     "status": "completed"
    },
    "tags": []
   },
   "outputs": [],
   "source": [
    "train_df1=pd.concat([train_df,dummies_train],axis=1)\n",
    "test_df1=pd.concat([test_df,dummies_test],axis=1)"
   ]
  },
  {
   "cell_type": "code",
   "execution_count": 9,
   "id": "c1d2f5c9",
   "metadata": {
    "execution": {
     "iopub.execute_input": "2022-07-11T03:39:26.946544Z",
     "iopub.status.busy": "2022-07-11T03:39:26.945867Z",
     "iopub.status.idle": "2022-07-11T03:39:26.966953Z",
     "shell.execute_reply": "2022-07-11T03:39:26.965676Z"
    },
    "papermill": {
     "duration": 0.037736,
     "end_time": "2022-07-11T03:39:26.969432",
     "exception": false,
     "start_time": "2022-07-11T03:39:26.931696",
     "status": "completed"
    },
    "tags": []
   },
   "outputs": [
    {
     "data": {
      "text/html": [
       "<div>\n",
       "<style scoped>\n",
       "    .dataframe tbody tr th:only-of-type {\n",
       "        vertical-align: middle;\n",
       "    }\n",
       "\n",
       "    .dataframe tbody tr th {\n",
       "        vertical-align: top;\n",
       "    }\n",
       "\n",
       "    .dataframe thead th {\n",
       "        text-align: right;\n",
       "    }\n",
       "</style>\n",
       "<table border=\"1\" class=\"dataframe\">\n",
       "  <thead>\n",
       "    <tr style=\"text-align: right;\">\n",
       "      <th></th>\n",
       "      <th>PassengerId</th>\n",
       "      <th>Pclass</th>\n",
       "      <th>Name</th>\n",
       "      <th>Sex</th>\n",
       "      <th>Age</th>\n",
       "      <th>SibSp</th>\n",
       "      <th>Parch</th>\n",
       "      <th>Ticket</th>\n",
       "      <th>Fare</th>\n",
       "      <th>Cabin</th>\n",
       "      <th>Embarked</th>\n",
       "      <th>C</th>\n",
       "      <th>Q</th>\n",
       "      <th>S</th>\n",
       "    </tr>\n",
       "  </thead>\n",
       "  <tbody>\n",
       "    <tr>\n",
       "      <th>0</th>\n",
       "      <td>892</td>\n",
       "      <td>3</td>\n",
       "      <td>Kelly, Mr. James</td>\n",
       "      <td>1</td>\n",
       "      <td>34.5</td>\n",
       "      <td>0</td>\n",
       "      <td>0</td>\n",
       "      <td>330911</td>\n",
       "      <td>7.8292</td>\n",
       "      <td>NaN</td>\n",
       "      <td>Q</td>\n",
       "      <td>0</td>\n",
       "      <td>1</td>\n",
       "      <td>0</td>\n",
       "    </tr>\n",
       "    <tr>\n",
       "      <th>1</th>\n",
       "      <td>893</td>\n",
       "      <td>3</td>\n",
       "      <td>Wilkes, Mrs. James (Ellen Needs)</td>\n",
       "      <td>0</td>\n",
       "      <td>47.0</td>\n",
       "      <td>1</td>\n",
       "      <td>0</td>\n",
       "      <td>363272</td>\n",
       "      <td>7.0000</td>\n",
       "      <td>NaN</td>\n",
       "      <td>S</td>\n",
       "      <td>0</td>\n",
       "      <td>0</td>\n",
       "      <td>1</td>\n",
       "    </tr>\n",
       "    <tr>\n",
       "      <th>2</th>\n",
       "      <td>894</td>\n",
       "      <td>2</td>\n",
       "      <td>Myles, Mr. Thomas Francis</td>\n",
       "      <td>1</td>\n",
       "      <td>62.0</td>\n",
       "      <td>0</td>\n",
       "      <td>0</td>\n",
       "      <td>240276</td>\n",
       "      <td>9.6875</td>\n",
       "      <td>NaN</td>\n",
       "      <td>Q</td>\n",
       "      <td>0</td>\n",
       "      <td>1</td>\n",
       "      <td>0</td>\n",
       "    </tr>\n",
       "    <tr>\n",
       "      <th>3</th>\n",
       "      <td>895</td>\n",
       "      <td>3</td>\n",
       "      <td>Wirz, Mr. Albert</td>\n",
       "      <td>1</td>\n",
       "      <td>27.0</td>\n",
       "      <td>0</td>\n",
       "      <td>0</td>\n",
       "      <td>315154</td>\n",
       "      <td>8.6625</td>\n",
       "      <td>NaN</td>\n",
       "      <td>S</td>\n",
       "      <td>0</td>\n",
       "      <td>0</td>\n",
       "      <td>1</td>\n",
       "    </tr>\n",
       "    <tr>\n",
       "      <th>4</th>\n",
       "      <td>896</td>\n",
       "      <td>3</td>\n",
       "      <td>Hirvonen, Mrs. Alexander (Helga E Lindqvist)</td>\n",
       "      <td>0</td>\n",
       "      <td>22.0</td>\n",
       "      <td>1</td>\n",
       "      <td>1</td>\n",
       "      <td>3101298</td>\n",
       "      <td>12.2875</td>\n",
       "      <td>NaN</td>\n",
       "      <td>S</td>\n",
       "      <td>0</td>\n",
       "      <td>0</td>\n",
       "      <td>1</td>\n",
       "    </tr>\n",
       "    <tr>\n",
       "      <th>5</th>\n",
       "      <td>897</td>\n",
       "      <td>3</td>\n",
       "      <td>Svensson, Mr. Johan Cervin</td>\n",
       "      <td>1</td>\n",
       "      <td>14.0</td>\n",
       "      <td>0</td>\n",
       "      <td>0</td>\n",
       "      <td>7538</td>\n",
       "      <td>9.2250</td>\n",
       "      <td>NaN</td>\n",
       "      <td>S</td>\n",
       "      <td>0</td>\n",
       "      <td>0</td>\n",
       "      <td>1</td>\n",
       "    </tr>\n",
       "    <tr>\n",
       "      <th>6</th>\n",
       "      <td>898</td>\n",
       "      <td>3</td>\n",
       "      <td>Connolly, Miss. Kate</td>\n",
       "      <td>0</td>\n",
       "      <td>30.0</td>\n",
       "      <td>0</td>\n",
       "      <td>0</td>\n",
       "      <td>330972</td>\n",
       "      <td>7.6292</td>\n",
       "      <td>NaN</td>\n",
       "      <td>Q</td>\n",
       "      <td>0</td>\n",
       "      <td>1</td>\n",
       "      <td>0</td>\n",
       "    </tr>\n",
       "    <tr>\n",
       "      <th>7</th>\n",
       "      <td>899</td>\n",
       "      <td>2</td>\n",
       "      <td>Caldwell, Mr. Albert Francis</td>\n",
       "      <td>1</td>\n",
       "      <td>26.0</td>\n",
       "      <td>1</td>\n",
       "      <td>1</td>\n",
       "      <td>248738</td>\n",
       "      <td>29.0000</td>\n",
       "      <td>NaN</td>\n",
       "      <td>S</td>\n",
       "      <td>0</td>\n",
       "      <td>0</td>\n",
       "      <td>1</td>\n",
       "    </tr>\n",
       "    <tr>\n",
       "      <th>8</th>\n",
       "      <td>900</td>\n",
       "      <td>3</td>\n",
       "      <td>Abrahim, Mrs. Joseph (Sophie Halaut Easu)</td>\n",
       "      <td>0</td>\n",
       "      <td>18.0</td>\n",
       "      <td>0</td>\n",
       "      <td>0</td>\n",
       "      <td>2657</td>\n",
       "      <td>7.2292</td>\n",
       "      <td>NaN</td>\n",
       "      <td>C</td>\n",
       "      <td>1</td>\n",
       "      <td>0</td>\n",
       "      <td>0</td>\n",
       "    </tr>\n",
       "    <tr>\n",
       "      <th>9</th>\n",
       "      <td>901</td>\n",
       "      <td>3</td>\n",
       "      <td>Davies, Mr. John Samuel</td>\n",
       "      <td>1</td>\n",
       "      <td>21.0</td>\n",
       "      <td>2</td>\n",
       "      <td>0</td>\n",
       "      <td>A/4 48871</td>\n",
       "      <td>24.1500</td>\n",
       "      <td>NaN</td>\n",
       "      <td>S</td>\n",
       "      <td>0</td>\n",
       "      <td>0</td>\n",
       "      <td>1</td>\n",
       "    </tr>\n",
       "  </tbody>\n",
       "</table>\n",
       "</div>"
      ],
      "text/plain": [
       "   PassengerId  Pclass                                          Name  Sex  \\\n",
       "0          892       3                              Kelly, Mr. James    1   \n",
       "1          893       3              Wilkes, Mrs. James (Ellen Needs)    0   \n",
       "2          894       2                     Myles, Mr. Thomas Francis    1   \n",
       "3          895       3                              Wirz, Mr. Albert    1   \n",
       "4          896       3  Hirvonen, Mrs. Alexander (Helga E Lindqvist)    0   \n",
       "5          897       3                    Svensson, Mr. Johan Cervin    1   \n",
       "6          898       3                          Connolly, Miss. Kate    0   \n",
       "7          899       2                  Caldwell, Mr. Albert Francis    1   \n",
       "8          900       3     Abrahim, Mrs. Joseph (Sophie Halaut Easu)    0   \n",
       "9          901       3                       Davies, Mr. John Samuel    1   \n",
       "\n",
       "    Age  SibSp  Parch     Ticket     Fare Cabin Embarked  C  Q  S  \n",
       "0  34.5      0      0     330911   7.8292   NaN        Q  0  1  0  \n",
       "1  47.0      1      0     363272   7.0000   NaN        S  0  0  1  \n",
       "2  62.0      0      0     240276   9.6875   NaN        Q  0  1  0  \n",
       "3  27.0      0      0     315154   8.6625   NaN        S  0  0  1  \n",
       "4  22.0      1      1    3101298  12.2875   NaN        S  0  0  1  \n",
       "5  14.0      0      0       7538   9.2250   NaN        S  0  0  1  \n",
       "6  30.0      0      0     330972   7.6292   NaN        Q  0  1  0  \n",
       "7  26.0      1      1     248738  29.0000   NaN        S  0  0  1  \n",
       "8  18.0      0      0       2657   7.2292   NaN        C  1  0  0  \n",
       "9  21.0      2      0  A/4 48871  24.1500   NaN        S  0  0  1  "
      ]
     },
     "execution_count": 9,
     "metadata": {},
     "output_type": "execute_result"
    }
   ],
   "source": [
    "test_df1.head(10)"
   ]
  },
  {
   "cell_type": "code",
   "execution_count": 10,
   "id": "e99c2a6e",
   "metadata": {
    "execution": {
     "iopub.execute_input": "2022-07-11T03:39:26.998905Z",
     "iopub.status.busy": "2022-07-11T03:39:26.997985Z",
     "iopub.status.idle": "2022-07-11T03:39:27.017268Z",
     "shell.execute_reply": "2022-07-11T03:39:27.016366Z"
    },
    "papermill": {
     "duration": 0.03676,
     "end_time": "2022-07-11T03:39:27.019784",
     "exception": false,
     "start_time": "2022-07-11T03:39:26.983024",
     "status": "completed"
    },
    "tags": []
   },
   "outputs": [
    {
     "data": {
      "text/html": [
       "<div>\n",
       "<style scoped>\n",
       "    .dataframe tbody tr th:only-of-type {\n",
       "        vertical-align: middle;\n",
       "    }\n",
       "\n",
       "    .dataframe tbody tr th {\n",
       "        vertical-align: top;\n",
       "    }\n",
       "\n",
       "    .dataframe thead th {\n",
       "        text-align: right;\n",
       "    }\n",
       "</style>\n",
       "<table border=\"1\" class=\"dataframe\">\n",
       "  <thead>\n",
       "    <tr style=\"text-align: right;\">\n",
       "      <th></th>\n",
       "      <th>PassengerId</th>\n",
       "      <th>Survived</th>\n",
       "      <th>Pclass</th>\n",
       "      <th>Name</th>\n",
       "      <th>Sex</th>\n",
       "      <th>Age</th>\n",
       "      <th>SibSp</th>\n",
       "      <th>Parch</th>\n",
       "      <th>Ticket</th>\n",
       "      <th>Fare</th>\n",
       "      <th>Cabin</th>\n",
       "      <th>Embarked</th>\n",
       "      <th>C</th>\n",
       "      <th>Q</th>\n",
       "      <th>S</th>\n",
       "    </tr>\n",
       "  </thead>\n",
       "  <tbody>\n",
       "    <tr>\n",
       "      <th>0</th>\n",
       "      <td>1</td>\n",
       "      <td>0</td>\n",
       "      <td>3</td>\n",
       "      <td>Braund, Mr. Owen Harris</td>\n",
       "      <td>1</td>\n",
       "      <td>22.0</td>\n",
       "      <td>1</td>\n",
       "      <td>0</td>\n",
       "      <td>A/5 21171</td>\n",
       "      <td>7.2500</td>\n",
       "      <td>NaN</td>\n",
       "      <td>S</td>\n",
       "      <td>0</td>\n",
       "      <td>0</td>\n",
       "      <td>1</td>\n",
       "    </tr>\n",
       "    <tr>\n",
       "      <th>1</th>\n",
       "      <td>2</td>\n",
       "      <td>1</td>\n",
       "      <td>1</td>\n",
       "      <td>Cumings, Mrs. John Bradley (Florence Briggs Th...</td>\n",
       "      <td>0</td>\n",
       "      <td>38.0</td>\n",
       "      <td>1</td>\n",
       "      <td>0</td>\n",
       "      <td>PC 17599</td>\n",
       "      <td>71.2833</td>\n",
       "      <td>C85</td>\n",
       "      <td>C</td>\n",
       "      <td>1</td>\n",
       "      <td>0</td>\n",
       "      <td>0</td>\n",
       "    </tr>\n",
       "    <tr>\n",
       "      <th>2</th>\n",
       "      <td>3</td>\n",
       "      <td>1</td>\n",
       "      <td>3</td>\n",
       "      <td>Heikkinen, Miss. Laina</td>\n",
       "      <td>0</td>\n",
       "      <td>26.0</td>\n",
       "      <td>0</td>\n",
       "      <td>0</td>\n",
       "      <td>STON/O2. 3101282</td>\n",
       "      <td>7.9250</td>\n",
       "      <td>NaN</td>\n",
       "      <td>S</td>\n",
       "      <td>0</td>\n",
       "      <td>0</td>\n",
       "      <td>1</td>\n",
       "    </tr>\n",
       "    <tr>\n",
       "      <th>3</th>\n",
       "      <td>4</td>\n",
       "      <td>1</td>\n",
       "      <td>1</td>\n",
       "      <td>Futrelle, Mrs. Jacques Heath (Lily May Peel)</td>\n",
       "      <td>0</td>\n",
       "      <td>35.0</td>\n",
       "      <td>1</td>\n",
       "      <td>0</td>\n",
       "      <td>113803</td>\n",
       "      <td>53.1000</td>\n",
       "      <td>C123</td>\n",
       "      <td>S</td>\n",
       "      <td>0</td>\n",
       "      <td>0</td>\n",
       "      <td>1</td>\n",
       "    </tr>\n",
       "    <tr>\n",
       "      <th>4</th>\n",
       "      <td>5</td>\n",
       "      <td>0</td>\n",
       "      <td>3</td>\n",
       "      <td>Allen, Mr. William Henry</td>\n",
       "      <td>1</td>\n",
       "      <td>35.0</td>\n",
       "      <td>0</td>\n",
       "      <td>0</td>\n",
       "      <td>373450</td>\n",
       "      <td>8.0500</td>\n",
       "      <td>NaN</td>\n",
       "      <td>S</td>\n",
       "      <td>0</td>\n",
       "      <td>0</td>\n",
       "      <td>1</td>\n",
       "    </tr>\n",
       "    <tr>\n",
       "      <th>5</th>\n",
       "      <td>6</td>\n",
       "      <td>0</td>\n",
       "      <td>3</td>\n",
       "      <td>Moran, Mr. James</td>\n",
       "      <td>1</td>\n",
       "      <td>NaN</td>\n",
       "      <td>0</td>\n",
       "      <td>0</td>\n",
       "      <td>330877</td>\n",
       "      <td>8.4583</td>\n",
       "      <td>NaN</td>\n",
       "      <td>Q</td>\n",
       "      <td>0</td>\n",
       "      <td>1</td>\n",
       "      <td>0</td>\n",
       "    </tr>\n",
       "    <tr>\n",
       "      <th>6</th>\n",
       "      <td>7</td>\n",
       "      <td>0</td>\n",
       "      <td>1</td>\n",
       "      <td>McCarthy, Mr. Timothy J</td>\n",
       "      <td>1</td>\n",
       "      <td>54.0</td>\n",
       "      <td>0</td>\n",
       "      <td>0</td>\n",
       "      <td>17463</td>\n",
       "      <td>51.8625</td>\n",
       "      <td>E46</td>\n",
       "      <td>S</td>\n",
       "      <td>0</td>\n",
       "      <td>0</td>\n",
       "      <td>1</td>\n",
       "    </tr>\n",
       "    <tr>\n",
       "      <th>7</th>\n",
       "      <td>8</td>\n",
       "      <td>0</td>\n",
       "      <td>3</td>\n",
       "      <td>Palsson, Master. Gosta Leonard</td>\n",
       "      <td>1</td>\n",
       "      <td>2.0</td>\n",
       "      <td>3</td>\n",
       "      <td>1</td>\n",
       "      <td>349909</td>\n",
       "      <td>21.0750</td>\n",
       "      <td>NaN</td>\n",
       "      <td>S</td>\n",
       "      <td>0</td>\n",
       "      <td>0</td>\n",
       "      <td>1</td>\n",
       "    </tr>\n",
       "    <tr>\n",
       "      <th>8</th>\n",
       "      <td>9</td>\n",
       "      <td>1</td>\n",
       "      <td>3</td>\n",
       "      <td>Johnson, Mrs. Oscar W (Elisabeth Vilhelmina Berg)</td>\n",
       "      <td>0</td>\n",
       "      <td>27.0</td>\n",
       "      <td>0</td>\n",
       "      <td>2</td>\n",
       "      <td>347742</td>\n",
       "      <td>11.1333</td>\n",
       "      <td>NaN</td>\n",
       "      <td>S</td>\n",
       "      <td>0</td>\n",
       "      <td>0</td>\n",
       "      <td>1</td>\n",
       "    </tr>\n",
       "    <tr>\n",
       "      <th>9</th>\n",
       "      <td>10</td>\n",
       "      <td>1</td>\n",
       "      <td>2</td>\n",
       "      <td>Nasser, Mrs. Nicholas (Adele Achem)</td>\n",
       "      <td>0</td>\n",
       "      <td>14.0</td>\n",
       "      <td>1</td>\n",
       "      <td>0</td>\n",
       "      <td>237736</td>\n",
       "      <td>30.0708</td>\n",
       "      <td>NaN</td>\n",
       "      <td>C</td>\n",
       "      <td>1</td>\n",
       "      <td>0</td>\n",
       "      <td>0</td>\n",
       "    </tr>\n",
       "  </tbody>\n",
       "</table>\n",
       "</div>"
      ],
      "text/plain": [
       "   PassengerId  Survived  Pclass  \\\n",
       "0            1         0       3   \n",
       "1            2         1       1   \n",
       "2            3         1       3   \n",
       "3            4         1       1   \n",
       "4            5         0       3   \n",
       "5            6         0       3   \n",
       "6            7         0       1   \n",
       "7            8         0       3   \n",
       "8            9         1       3   \n",
       "9           10         1       2   \n",
       "\n",
       "                                                Name  Sex   Age  SibSp  Parch  \\\n",
       "0                            Braund, Mr. Owen Harris    1  22.0      1      0   \n",
       "1  Cumings, Mrs. John Bradley (Florence Briggs Th...    0  38.0      1      0   \n",
       "2                             Heikkinen, Miss. Laina    0  26.0      0      0   \n",
       "3       Futrelle, Mrs. Jacques Heath (Lily May Peel)    0  35.0      1      0   \n",
       "4                           Allen, Mr. William Henry    1  35.0      0      0   \n",
       "5                                   Moran, Mr. James    1   NaN      0      0   \n",
       "6                            McCarthy, Mr. Timothy J    1  54.0      0      0   \n",
       "7                     Palsson, Master. Gosta Leonard    1   2.0      3      1   \n",
       "8  Johnson, Mrs. Oscar W (Elisabeth Vilhelmina Berg)    0  27.0      0      2   \n",
       "9                Nasser, Mrs. Nicholas (Adele Achem)    0  14.0      1      0   \n",
       "\n",
       "             Ticket     Fare Cabin Embarked  C  Q  S  \n",
       "0         A/5 21171   7.2500   NaN        S  0  0  1  \n",
       "1          PC 17599  71.2833   C85        C  1  0  0  \n",
       "2  STON/O2. 3101282   7.9250   NaN        S  0  0  1  \n",
       "3            113803  53.1000  C123        S  0  0  1  \n",
       "4            373450   8.0500   NaN        S  0  0  1  \n",
       "5            330877   8.4583   NaN        Q  0  1  0  \n",
       "6             17463  51.8625   E46        S  0  0  1  \n",
       "7            349909  21.0750   NaN        S  0  0  1  \n",
       "8            347742  11.1333   NaN        S  0  0  1  \n",
       "9            237736  30.0708   NaN        C  1  0  0  "
      ]
     },
     "execution_count": 10,
     "metadata": {},
     "output_type": "execute_result"
    }
   ],
   "source": [
    "train_df1.head(10)"
   ]
  },
  {
   "cell_type": "code",
   "execution_count": 11,
   "id": "55d59a01",
   "metadata": {
    "execution": {
     "iopub.execute_input": "2022-07-11T03:39:27.049672Z",
     "iopub.status.busy": "2022-07-11T03:39:27.048813Z",
     "iopub.status.idle": "2022-07-11T03:39:27.060648Z",
     "shell.execute_reply": "2022-07-11T03:39:27.059739Z"
    },
    "papermill": {
     "duration": 0.029315,
     "end_time": "2022-07-11T03:39:27.062986",
     "exception": false,
     "start_time": "2022-07-11T03:39:27.033671",
     "status": "completed"
    },
    "tags": []
   },
   "outputs": [
    {
     "data": {
      "text/plain": [
       "PassengerId      0\n",
       "Survived         0\n",
       "Pclass           0\n",
       "Name             0\n",
       "Sex              0\n",
       "Age            177\n",
       "SibSp            0\n",
       "Parch            0\n",
       "Ticket           0\n",
       "Fare             0\n",
       "Cabin          687\n",
       "Embarked         2\n",
       "C                0\n",
       "Q                0\n",
       "S                0\n",
       "dtype: int64"
      ]
     },
     "execution_count": 11,
     "metadata": {},
     "output_type": "execute_result"
    }
   ],
   "source": [
    "train_df1.isna().sum()"
   ]
  },
  {
   "cell_type": "code",
   "execution_count": 12,
   "id": "0ff8eb34",
   "metadata": {
    "execution": {
     "iopub.execute_input": "2022-07-11T03:39:27.092746Z",
     "iopub.status.busy": "2022-07-11T03:39:27.092145Z",
     "iopub.status.idle": "2022-07-11T03:39:27.099886Z",
     "shell.execute_reply": "2022-07-11T03:39:27.098686Z"
    },
    "papermill": {
     "duration": 0.025666,
     "end_time": "2022-07-11T03:39:27.102581",
     "exception": false,
     "start_time": "2022-07-11T03:39:27.076915",
     "status": "completed"
    },
    "tags": []
   },
   "outputs": [],
   "source": [
    "train_df2=train_df1.drop(['Cabin','Age','Name','Ticket','Embarked'],axis=1)\n",
    "test_df2=test_df1.drop(['Cabin','Age','Name','Ticket','Embarked'],axis=1)"
   ]
  },
  {
   "cell_type": "code",
   "execution_count": 13,
   "id": "e8b33b60",
   "metadata": {
    "execution": {
     "iopub.execute_input": "2022-07-11T03:39:27.132485Z",
     "iopub.status.busy": "2022-07-11T03:39:27.131997Z",
     "iopub.status.idle": "2022-07-11T03:39:27.137744Z",
     "shell.execute_reply": "2022-07-11T03:39:27.136345Z"
    },
    "papermill": {
     "duration": 0.023637,
     "end_time": "2022-07-11T03:39:27.140027",
     "exception": false,
     "start_time": "2022-07-11T03:39:27.116390",
     "status": "completed"
    },
    "tags": []
   },
   "outputs": [],
   "source": [
    "test_df2.fillna(0,inplace=True)"
   ]
  },
  {
   "cell_type": "code",
   "execution_count": 14,
   "id": "a964e0b5",
   "metadata": {
    "execution": {
     "iopub.execute_input": "2022-07-11T03:39:27.169379Z",
     "iopub.status.busy": "2022-07-11T03:39:27.168998Z",
     "iopub.status.idle": "2022-07-11T03:39:27.175641Z",
     "shell.execute_reply": "2022-07-11T03:39:27.174468Z"
    },
    "papermill": {
     "duration": 0.02451,
     "end_time": "2022-07-11T03:39:27.178236",
     "exception": false,
     "start_time": "2022-07-11T03:39:27.153726",
     "status": "completed"
    },
    "tags": []
   },
   "outputs": [],
   "source": [
    "y=train_df2.Survived\n",
    "x=train_df2.drop('Survived',axis=1)\n",
    "\n"
   ]
  },
  {
   "cell_type": "code",
   "execution_count": 15,
   "id": "bfd8ceae",
   "metadata": {
    "execution": {
     "iopub.execute_input": "2022-07-11T03:39:27.207610Z",
     "iopub.status.busy": "2022-07-11T03:39:27.207217Z",
     "iopub.status.idle": "2022-07-11T03:39:27.215699Z",
     "shell.execute_reply": "2022-07-11T03:39:27.214586Z"
    },
    "papermill": {
     "duration": 0.025989,
     "end_time": "2022-07-11T03:39:27.217995",
     "exception": false,
     "start_time": "2022-07-11T03:39:27.192006",
     "status": "completed"
    },
    "tags": []
   },
   "outputs": [
    {
     "data": {
      "text/plain": [
       "DecisionTreeClassifier(random_state=42)"
      ]
     },
     "execution_count": 15,
     "metadata": {},
     "output_type": "execute_result"
    }
   ],
   "source": [
    "clf = DecisionTreeClassifier(random_state=42)\n",
    "clf"
   ]
  },
  {
   "cell_type": "code",
   "execution_count": 16,
   "id": "a57a68ab",
   "metadata": {
    "execution": {
     "iopub.execute_input": "2022-07-11T03:39:27.249267Z",
     "iopub.status.busy": "2022-07-11T03:39:27.248040Z",
     "iopub.status.idle": "2022-07-11T03:39:27.255101Z",
     "shell.execute_reply": "2022-07-11T03:39:27.254253Z"
    },
    "papermill": {
     "duration": 0.024866,
     "end_time": "2022-07-11T03:39:27.257395",
     "exception": false,
     "start_time": "2022-07-11T03:39:27.232529",
     "status": "completed"
    },
    "tags": []
   },
   "outputs": [
    {
     "data": {
      "text/plain": [
       "(418, 9)"
      ]
     },
     "execution_count": 16,
     "metadata": {},
     "output_type": "execute_result"
    }
   ],
   "source": [
    "test_df2.shape"
   ]
  },
  {
   "cell_type": "code",
   "execution_count": 17,
   "id": "157ce8db",
   "metadata": {
    "execution": {
     "iopub.execute_input": "2022-07-11T03:39:27.288426Z",
     "iopub.status.busy": "2022-07-11T03:39:27.287747Z",
     "iopub.status.idle": "2022-07-11T03:39:27.300766Z",
     "shell.execute_reply": "2022-07-11T03:39:27.299801Z"
    },
    "papermill": {
     "duration": 0.030812,
     "end_time": "2022-07-11T03:39:27.303099",
     "exception": false,
     "start_time": "2022-07-11T03:39:27.272287",
     "status": "completed"
    },
    "tags": []
   },
   "outputs": [
    {
     "data": {
      "text/html": [
       "<div>\n",
       "<style scoped>\n",
       "    .dataframe tbody tr th:only-of-type {\n",
       "        vertical-align: middle;\n",
       "    }\n",
       "\n",
       "    .dataframe tbody tr th {\n",
       "        vertical-align: top;\n",
       "    }\n",
       "\n",
       "    .dataframe thead th {\n",
       "        text-align: right;\n",
       "    }\n",
       "</style>\n",
       "<table border=\"1\" class=\"dataframe\">\n",
       "  <thead>\n",
       "    <tr style=\"text-align: right;\">\n",
       "      <th></th>\n",
       "      <th>PassengerId</th>\n",
       "      <th>Pclass</th>\n",
       "      <th>Sex</th>\n",
       "      <th>SibSp</th>\n",
       "      <th>Parch</th>\n",
       "      <th>Fare</th>\n",
       "      <th>C</th>\n",
       "      <th>Q</th>\n",
       "      <th>S</th>\n",
       "    </tr>\n",
       "  </thead>\n",
       "  <tbody>\n",
       "    <tr>\n",
       "      <th>0</th>\n",
       "      <td>1</td>\n",
       "      <td>3</td>\n",
       "      <td>1</td>\n",
       "      <td>1</td>\n",
       "      <td>0</td>\n",
       "      <td>7.2500</td>\n",
       "      <td>0</td>\n",
       "      <td>0</td>\n",
       "      <td>1</td>\n",
       "    </tr>\n",
       "    <tr>\n",
       "      <th>1</th>\n",
       "      <td>2</td>\n",
       "      <td>1</td>\n",
       "      <td>0</td>\n",
       "      <td>1</td>\n",
       "      <td>0</td>\n",
       "      <td>71.2833</td>\n",
       "      <td>1</td>\n",
       "      <td>0</td>\n",
       "      <td>0</td>\n",
       "    </tr>\n",
       "    <tr>\n",
       "      <th>2</th>\n",
       "      <td>3</td>\n",
       "      <td>3</td>\n",
       "      <td>0</td>\n",
       "      <td>0</td>\n",
       "      <td>0</td>\n",
       "      <td>7.9250</td>\n",
       "      <td>0</td>\n",
       "      <td>0</td>\n",
       "      <td>1</td>\n",
       "    </tr>\n",
       "    <tr>\n",
       "      <th>3</th>\n",
       "      <td>4</td>\n",
       "      <td>1</td>\n",
       "      <td>0</td>\n",
       "      <td>1</td>\n",
       "      <td>0</td>\n",
       "      <td>53.1000</td>\n",
       "      <td>0</td>\n",
       "      <td>0</td>\n",
       "      <td>1</td>\n",
       "    </tr>\n",
       "    <tr>\n",
       "      <th>4</th>\n",
       "      <td>5</td>\n",
       "      <td>3</td>\n",
       "      <td>1</td>\n",
       "      <td>0</td>\n",
       "      <td>0</td>\n",
       "      <td>8.0500</td>\n",
       "      <td>0</td>\n",
       "      <td>0</td>\n",
       "      <td>1</td>\n",
       "    </tr>\n",
       "  </tbody>\n",
       "</table>\n",
       "</div>"
      ],
      "text/plain": [
       "   PassengerId  Pclass  Sex  SibSp  Parch     Fare  C  Q  S\n",
       "0            1       3    1      1      0   7.2500  0  0  1\n",
       "1            2       1    0      1      0  71.2833  1  0  0\n",
       "2            3       3    0      0      0   7.9250  0  0  1\n",
       "3            4       1    0      1      0  53.1000  0  0  1\n",
       "4            5       3    1      0      0   8.0500  0  0  1"
      ]
     },
     "execution_count": 17,
     "metadata": {},
     "output_type": "execute_result"
    }
   ],
   "source": [
    "x.head()"
   ]
  },
  {
   "cell_type": "code",
   "execution_count": 18,
   "id": "198a3316",
   "metadata": {
    "execution": {
     "iopub.execute_input": "2022-07-11T03:39:27.334400Z",
     "iopub.status.busy": "2022-07-11T03:39:27.333971Z",
     "iopub.status.idle": "2022-07-11T03:39:27.347639Z",
     "shell.execute_reply": "2022-07-11T03:39:27.346408Z"
    },
    "papermill": {
     "duration": 0.032284,
     "end_time": "2022-07-11T03:39:27.350122",
     "exception": false,
     "start_time": "2022-07-11T03:39:27.317838",
     "status": "completed"
    },
    "tags": []
   },
   "outputs": [
    {
     "data": {
      "text/plain": [
       "DecisionTreeClassifier(random_state=42)"
      ]
     },
     "execution_count": 18,
     "metadata": {},
     "output_type": "execute_result"
    }
   ],
   "source": [
    "clf=clf.fit(x[['Sex']],y)\n",
    "clf"
   ]
  },
  {
   "cell_type": "code",
   "execution_count": 19,
   "id": "7a012810",
   "metadata": {
    "execution": {
     "iopub.execute_input": "2022-07-11T03:39:27.381430Z",
     "iopub.status.busy": "2022-07-11T03:39:27.380971Z",
     "iopub.status.idle": "2022-07-11T03:39:27.389773Z",
     "shell.execute_reply": "2022-07-11T03:39:27.388565Z"
    },
    "papermill": {
     "duration": 0.027427,
     "end_time": "2022-07-11T03:39:27.392111",
     "exception": false,
     "start_time": "2022-07-11T03:39:27.364684",
     "status": "completed"
    },
    "tags": []
   },
   "outputs": [
    {
     "data": {
      "text/plain": [
       "1    577\n",
       "0    314\n",
       "Name: Sex, dtype: int64"
      ]
     },
     "execution_count": 19,
     "metadata": {},
     "output_type": "execute_result"
    }
   ],
   "source": [
    "train_df2.Sex.value_counts()"
   ]
  },
  {
   "cell_type": "code",
   "execution_count": 20,
   "id": "2afb6d63",
   "metadata": {
    "execution": {
     "iopub.execute_input": "2022-07-11T03:39:27.423675Z",
     "iopub.status.busy": "2022-07-11T03:39:27.423264Z",
     "iopub.status.idle": "2022-07-11T03:39:27.766537Z",
     "shell.execute_reply": "2022-07-11T03:39:27.765444Z"
    },
    "papermill": {
     "duration": 0.36192,
     "end_time": "2022-07-11T03:39:27.768944",
     "exception": false,
     "start_time": "2022-07-11T03:39:27.407024",
     "status": "completed"
    },
    "tags": []
   },
   "outputs": [
    {
     "data": {
      "image/png": "[encoded data removed]",
      "text/plain": [
       "<Figure size 1800x720 with 1 Axes>"
      ]
     },
     "metadata": {
      "needs_background": "light"
     },
     "output_type": "display_data"
    }
   ],
   "source": [
    "plt.figure(figsize=(25,10))\n",
    "tree.plot_tree(clf,\n",
    "         filled=True,\n",
    "         class_names= ['Died','Survived'],\n",
    "         feature_names=['Sex']);\n"
   ]
  },
  {
   "cell_type": "code",
   "execution_count": 21,
   "id": "5956d8e3",
   "metadata": {
    "execution": {
     "iopub.execute_input": "2022-07-11T03:39:27.805042Z",
     "iopub.status.busy": "2022-07-11T03:39:27.803923Z",
     "iopub.status.idle": "2022-07-11T03:39:27.814972Z",
     "shell.execute_reply": "2022-07-11T03:39:27.814053Z"
    },
    "papermill": {
     "duration": 0.031544,
     "end_time": "2022-07-11T03:39:27.817343",
     "exception": false,
     "start_time": "2022-07-11T03:39:27.785799",
     "status": "completed"
    },
    "tags": []
   },
   "outputs": [],
   "source": [
    "clf=clf.fit(x,y)\n"
   ]
  },
  {
   "cell_type": "code",
   "execution_count": 22,
   "id": "b64e5740",
   "metadata": {
    "execution": {
     "iopub.execute_input": "2022-07-11T03:39:27.851936Z",
     "iopub.status.busy": "2022-07-11T03:39:27.850888Z",
     "iopub.status.idle": "2022-07-11T03:39:48.555911Z",
     "shell.execute_reply": "2022-07-11T03:39:48.554753Z"
    },
    "papermill": {
     "duration": 20.725545,
     "end_time": "2022-07-11T03:39:48.558859",
     "exception": false,
     "start_time": "2022-07-11T03:39:27.833314",
     "status": "completed"
    },
    "tags": []
   },
   "outputs": [
    {
     "data": {
      "image/png": "[encoded data removed]",
      "text/plain": [
       "<Figure size 1800x720 with 1 Axes>"
      ]
     },
     "metadata": {
      "needs_background": "light"
     },
     "output_type": "display_data"
    }
   ],
   "source": [
    "plt.figure(figsize=(25,10))\n",
    "tree.plot_tree(clf,\n",
    "         filled=True,\n",
    "         class_names= ['Died','Survived'],\n",
    "         feature_names=x.columns);"
   ]
  },
  {
   "cell_type": "code",
   "execution_count": 23,
   "id": "43bf6a7a",
   "metadata": {
    "execution": {
     "iopub.execute_input": "2022-07-11T03:39:48.598707Z",
     "iopub.status.busy": "2022-07-11T03:39:48.598300Z",
     "iopub.status.idle": "2022-07-11T03:39:48.827456Z",
     "shell.execute_reply": "2022-07-11T03:39:48.826186Z"
    },
    "papermill": {
     "duration": 0.251926,
     "end_time": "2022-07-11T03:39:48.830098",
     "exception": false,
     "start_time": "2022-07-11T03:39:48.578172",
     "status": "completed"
    },
    "tags": []
   },
   "outputs": [
    {
     "name": "stderr",
     "output_type": "stream",
     "text": [
      "/opt/conda/lib/python3.7/site-packages/sklearn/utils/deprecation.py:87: FutureWarning: Function plot_confusion_matrix is deprecated; Function `plot_confusion_matrix` is deprecated in 1.0 and will be removed in 1.2. Use one of the class methods: ConfusionMatrixDisplay.from_predictions or ConfusionMatrixDisplay.from_estimator.\n",
      "  warnings.warn(msg, category=FutureWarning)\n"
     ]
    },
    {
     "data": {
      "image/png": "[encoded data removed]",
      "text/plain": [
       "<Figure size 432x288 with 2 Axes>"
      ]
     },
     "metadata": {
      "needs_background": "light"
     },
     "output_type": "display_data"
    }
   ],
   "source": [
    "plot_confusion_matrix(clf,x,y,display_labels=['Died','Survived'])\n",
    "plt.show()"
   ]
  },
  {
   "cell_type": "code",
   "execution_count": 24,
   "id": "5d9c4b0f",
   "metadata": {
    "execution": {
     "iopub.execute_input": "2022-07-11T03:39:48.870981Z",
     "iopub.status.busy": "2022-07-11T03:39:48.870561Z",
     "iopub.status.idle": "2022-07-11T03:39:48.878103Z",
     "shell.execute_reply": "2022-07-11T03:39:48.877081Z"
    },
    "papermill": {
     "duration": 0.031734,
     "end_time": "2022-07-11T03:39:48.881244",
     "exception": false,
     "start_time": "2022-07-11T03:39:48.849510",
     "status": "completed"
    },
    "tags": []
   },
   "outputs": [],
   "source": [
    "predict=clf.predict(x)\n"
   ]
  },
  {
   "cell_type": "code",
   "execution_count": 25,
   "id": "c3b12a4d",
   "metadata": {
    "execution": {
     "iopub.execute_input": "2022-07-11T03:39:48.921446Z",
     "iopub.status.busy": "2022-07-11T03:39:48.920674Z",
     "iopub.status.idle": "2022-07-11T03:39:48.928640Z",
     "shell.execute_reply": "2022-07-11T03:39:48.927729Z"
    },
    "papermill": {
     "duration": 0.031075,
     "end_time": "2022-07-11T03:39:48.931210",
     "exception": false,
     "start_time": "2022-07-11T03:39:48.900135",
     "status": "completed"
    },
    "tags": []
   },
   "outputs": [
    {
     "data": {
      "text/plain": [
       "1.0"
      ]
     },
     "execution_count": 25,
     "metadata": {},
     "output_type": "execute_result"
    }
   ],
   "source": [
    "accuracy_score(y,predict)"
   ]
  },
  {
   "cell_type": "code",
   "execution_count": 26,
   "id": "77a60d95",
   "metadata": {
    "execution": {
     "iopub.execute_input": "2022-07-11T03:39:48.973311Z",
     "iopub.status.busy": "2022-07-11T03:39:48.972515Z",
     "iopub.status.idle": "2022-07-11T03:39:48.980792Z",
     "shell.execute_reply": "2022-07-11T03:39:48.979690Z"
    },
    "papermill": {
     "duration": 0.032492,
     "end_time": "2022-07-11T03:39:48.983595",
     "exception": false,
     "start_time": "2022-07-11T03:39:48.951103",
     "status": "completed"
    },
    "tags": []
   },
   "outputs": [],
   "source": [
    "x_train,x_test,y_train,y_test= train_test_split(x,y,train_size=0.75,random_state=42)"
   ]
  },
  {
   "cell_type": "code",
   "execution_count": 27,
   "id": "a3fe8fdc",
   "metadata": {
    "execution": {
     "iopub.execute_input": "2022-07-11T03:39:49.026371Z",
     "iopub.status.busy": "2022-07-11T03:39:49.025555Z",
     "iopub.status.idle": "2022-07-11T03:39:49.032684Z",
     "shell.execute_reply": "2022-07-11T03:39:49.031590Z"
    },
    "papermill": {
     "duration": 0.031468,
     "end_time": "2022-07-11T03:39:49.035021",
     "exception": false,
     "start_time": "2022-07-11T03:39:49.003553",
     "status": "completed"
    },
    "tags": []
   },
   "outputs": [
    {
     "data": {
      "text/plain": [
       "(223,)"
      ]
     },
     "execution_count": 27,
     "metadata": {},
     "output_type": "execute_result"
    }
   ],
   "source": [
    "y_test.shape"
   ]
  },
  {
   "cell_type": "code",
   "execution_count": 28,
   "id": "a50ea82c",
   "metadata": {
    "execution": {
     "iopub.execute_input": "2022-07-11T03:39:49.076076Z",
     "iopub.status.busy": "2022-07-11T03:39:49.075685Z",
     "iopub.status.idle": "2022-07-11T03:39:49.086132Z",
     "shell.execute_reply": "2022-07-11T03:39:49.084895Z"
    },
    "papermill": {
     "duration": 0.034682,
     "end_time": "2022-07-11T03:39:49.089052",
     "exception": false,
     "start_time": "2022-07-11T03:39:49.054370",
     "status": "completed"
    },
    "tags": []
   },
   "outputs": [],
   "source": [
    "clf = DecisionTreeClassifier(random_state=42)\n",
    "clf=clf.fit(x_train,y_train)"
   ]
  },
  {
   "cell_type": "code",
   "execution_count": 29,
   "id": "d421aa9a",
   "metadata": {
    "execution": {
     "iopub.execute_input": "2022-07-11T03:39:49.129742Z",
     "iopub.status.busy": "2022-07-11T03:39:49.129350Z",
     "iopub.status.idle": "2022-07-11T03:39:49.137491Z",
     "shell.execute_reply": "2022-07-11T03:39:49.136153Z"
    },
    "papermill": {
     "duration": 0.031766,
     "end_time": "2022-07-11T03:39:49.139948",
     "exception": false,
     "start_time": "2022-07-11T03:39:49.108182",
     "status": "completed"
    },
    "tags": []
   },
   "outputs": [],
   "source": [
    "predict=clf.predict(x_test)"
   ]
  },
  {
   "cell_type": "code",
   "execution_count": 30,
   "id": "43da6d79",
   "metadata": {
    "execution": {
     "iopub.execute_input": "2022-07-11T03:39:49.180681Z",
     "iopub.status.busy": "2022-07-11T03:39:49.179957Z",
     "iopub.status.idle": "2022-07-11T03:39:49.410595Z",
     "shell.execute_reply": "2022-07-11T03:39:49.409332Z"
    },
    "papermill": {
     "duration": 0.254084,
     "end_time": "2022-07-11T03:39:49.413415",
     "exception": false,
     "start_time": "2022-07-11T03:39:49.159331",
     "status": "completed"
    },
    "tags": []
   },
   "outputs": [
    {
     "name": "stderr",
     "output_type": "stream",
     "text": [
      "/opt/conda/lib/python3.7/site-packages/sklearn/utils/deprecation.py:87: FutureWarning: Function plot_confusion_matrix is deprecated; Function `plot_confusion_matrix` is deprecated in 1.0 and will be removed in 1.2. Use one of the class methods: ConfusionMatrixDisplay.from_predictions or ConfusionMatrixDisplay.from_estimator.\n",
      "  warnings.warn(msg, category=FutureWarning)\n"
     ]
    },
    {
     "data": {
      "text/plain": [
       "<sklearn.metrics._plot.confusion_matrix.ConfusionMatrixDisplay at 0x7f5f55b64a50>"
      ]
     },
     "execution_count": 30,
     "metadata": {},
     "output_type": "execute_result"
    },
    {
     "data": {
      "image/png": "[encoded data removed]",
      "text/plain": [
       "<Figure size 432x288 with 2 Axes>"
      ]
     },
     "metadata": {
      "needs_background": "light"
     },
     "output_type": "display_data"
    }
   ],
   "source": [
    "plot_confusion_matrix(clf,x_test,y_test,display_labels=['Died','Survived'])"
   ]
  },
  {
   "cell_type": "code",
   "execution_count": 31,
   "id": "ccd6e389",
   "metadata": {
    "execution": {
     "iopub.execute_input": "2022-07-11T03:39:49.458173Z",
     "iopub.status.busy": "2022-07-11T03:39:49.457751Z",
     "iopub.status.idle": "2022-07-11T03:39:49.464835Z",
     "shell.execute_reply": "2022-07-11T03:39:49.464052Z"
    },
    "papermill": {
     "duration": 0.03231,
     "end_time": "2022-07-11T03:39:49.467156",
     "exception": false,
     "start_time": "2022-07-11T03:39:49.434846",
     "status": "completed"
    },
    "tags": []
   },
   "outputs": [
    {
     "data": {
      "text/plain": [
       "0.7623318385650224"
      ]
     },
     "execution_count": 31,
     "metadata": {},
     "output_type": "execute_result"
    }
   ],
   "source": [
    "accuracy_score(y_test,predict)"
   ]
  },
  {
   "cell_type": "code",
   "execution_count": 32,
   "id": "28a33f40",
   "metadata": {
    "execution": {
     "iopub.execute_input": "2022-07-11T03:39:49.510043Z",
     "iopub.status.busy": "2022-07-11T03:39:49.509153Z",
     "iopub.status.idle": "2022-07-11T03:39:49.521137Z",
     "shell.execute_reply": "2022-07-11T03:39:49.520063Z"
    },
    "papermill": {
     "duration": 0.036469,
     "end_time": "2022-07-11T03:39:49.523645",
     "exception": false,
     "start_time": "2022-07-11T03:39:49.487176",
     "status": "completed"
    },
    "tags": []
   },
   "outputs": [],
   "source": [
    "clf = DecisionTreeClassifier(random_state=0)\n",
    "path = clf.cost_complexity_pruning_path(x_train, y_train)\n",
    "ccp_alphas, impurities = path.ccp_alphas, path.impurities\n"
   ]
  },
  {
   "cell_type": "code",
   "execution_count": 33,
   "id": "3dad772a",
   "metadata": {
    "execution": {
     "iopub.execute_input": "2022-07-11T03:39:49.566957Z",
     "iopub.status.busy": "2022-07-11T03:39:49.565828Z",
     "iopub.status.idle": "2022-07-11T03:39:49.793748Z",
     "shell.execute_reply": "2022-07-11T03:39:49.792282Z"
    },
    "papermill": {
     "duration": 0.251973,
     "end_time": "2022-07-11T03:39:49.796456",
     "exception": false,
     "start_time": "2022-07-11T03:39:49.544483",
     "status": "completed"
    },
    "tags": []
   },
   "outputs": [
    {
     "name": "stdout",
     "output_type": "stream",
     "text": [
      "Number of nodes in the last tree is: 1 with ccp_alpha: 0.13793862272675983\n"
     ]
    }
   ],
   "source": [
    "clfs = []\n",
    "for ccp_alpha in ccp_alphas:\n",
    "    clf = DecisionTreeClassifier(random_state=0, ccp_alpha=ccp_alpha)\n",
    "    clf.fit(x_train, y_train)\n",
    "    clfs.append(clf)\n",
    "print(\n",
    "    \"Number of nodes in the last tree is: {} with ccp_alpha: {}\".format(\n",
    "        clfs[-1].tree_.node_count, ccp_alphas[-1]\n",
    "    )\n",
    ")"
   ]
  },
  {
   "cell_type": "code",
   "execution_count": 34,
   "id": "16152d5d",
   "metadata": {
    "execution": {
     "iopub.execute_input": "2022-07-11T03:39:49.838665Z",
     "iopub.status.busy": "2022-07-11T03:39:49.838279Z",
     "iopub.status.idle": "2022-07-11T03:39:50.200373Z",
     "shell.execute_reply": "2022-07-11T03:39:50.199171Z"
    },
    "papermill": {
     "duration": 0.386925,
     "end_time": "2022-07-11T03:39:50.203176",
     "exception": false,
     "start_time": "2022-07-11T03:39:49.816251",
     "status": "completed"
    },
    "tags": []
   },
   "outputs": [
    {
     "data": {
      "image/png": "[encoded data removed]",
      "text/plain": [
       "<Figure size 432x288 with 2 Axes>"
      ]
     },
     "metadata": {
      "needs_background": "light"
     },
     "output_type": "display_data"
    }
   ],
   "source": [
    "clfs = clfs[:-1]\n",
    "ccp_alphas = ccp_alphas[:-1]\n",
    "\n",
    "node_counts = [clf.tree_.node_count for clf in clfs]\n",
    "depth = [clf.tree_.max_depth for clf in clfs]\n",
    "fig, ax = plt.subplots(2, 1)\n",
    "ax[0].plot(ccp_alphas, node_counts, marker=\"o\", drawstyle=\"steps-post\")\n",
    "ax[0].set_xlabel(\"alpha\")\n",
    "ax[0].set_ylabel(\"number of nodes\")\n",
    "ax[0].set_title(\"Number of nodes vs alpha\")\n",
    "ax[1].plot(ccp_alphas, depth, marker=\"o\", drawstyle=\"steps-post\")\n",
    "ax[1].set_xlabel(\"alpha\")\n",
    "ax[1].set_ylabel(\"depth of tree\")\n",
    "ax[1].set_title(\"Depth vs alpha\")\n",
    "fig.tight_layout()"
   ]
  },
  {
   "cell_type": "code",
   "execution_count": 35,
   "id": "93169df1",
   "metadata": {
    "execution": {
     "iopub.execute_input": "2022-07-11T03:39:50.247141Z",
     "iopub.status.busy": "2022-07-11T03:39:50.246707Z",
     "iopub.status.idle": "2022-07-11T03:39:50.806777Z",
     "shell.execute_reply": "2022-07-11T03:39:50.805414Z"
    },
    "papermill": {
     "duration": 0.585351,
     "end_time": "2022-07-11T03:39:50.809464",
     "exception": false,
     "start_time": "2022-07-11T03:39:50.224113",
     "status": "completed"
    },
    "tags": []
   },
   "outputs": [
    {
     "data": {
      "image/png": "[encoded data removed]",
      "text/plain": [
       "<Figure size 432x288 with 1 Axes>"
      ]
     },
     "metadata": {
      "needs_background": "light"
     },
     "output_type": "display_data"
    }
   ],
   "source": [
    "train_scores = [clf.score(x_train, y_train) for clf in clfs]\n",
    "test_scores = [clf.score(x_test, y_test) for clf in clfs]\n",
    "\n",
    "fig, ax = plt.subplots()\n",
    "ax.set_xlabel(\"alpha\")\n",
    "ax.set_ylabel(\"accuracy\")\n",
    "ax.set_title(\"Accuracy vs alpha for training and testing sets\")\n",
    "ax.plot(ccp_alphas, train_scores, marker=\"o\", label=\"train\", drawstyle=\"steps-post\")\n",
    "ax.plot(ccp_alphas, test_scores, marker=\"o\", label=\"test\", drawstyle=\"steps-post\")\n",
    "ax.legend()\n",
    "plt.show()"
   ]
  },
  {
   "cell_type": "code",
   "execution_count": 36,
   "id": "d14a8ef2",
   "metadata": {
    "execution": {
     "iopub.execute_input": "2022-07-11T03:39:50.852889Z",
     "iopub.status.busy": "2022-07-11T03:39:50.852509Z",
     "iopub.status.idle": "2022-07-11T03:39:50.858889Z",
     "shell.execute_reply": "2022-07-11T03:39:50.858033Z"
    },
    "papermill": {
     "duration": 0.030896,
     "end_time": "2022-07-11T03:39:50.860808",
     "exception": false,
     "start_time": "2022-07-11T03:39:50.829912",
     "status": "completed"
    },
    "tags": []
   },
   "outputs": [],
   "source": [
    "alphas=pd.DataFrame(ccp_alphas.tolist())\n",
    "score=pd.DataFrame(test_scores)\n",
    "alpha_df=pd.concat([alphas,score],axis=1)\n",
    "ccp_alpha=0.002232"
   ]
  },
  {
   "cell_type": "code",
   "execution_count": 37,
   "id": "8ac52da2",
   "metadata": {
    "execution": {
     "iopub.execute_input": "2022-07-11T03:39:50.905792Z",
     "iopub.status.busy": "2022-07-11T03:39:50.904999Z",
     "iopub.status.idle": "2022-07-11T03:39:51.131234Z",
     "shell.execute_reply": "2022-07-11T03:39:51.130258Z"
    },
    "papermill": {
     "duration": 0.251642,
     "end_time": "2022-07-11T03:39:51.133764",
     "exception": false,
     "start_time": "2022-07-11T03:39:50.882122",
     "status": "completed"
    },
    "tags": []
   },
   "outputs": [
    {
     "name": "stderr",
     "output_type": "stream",
     "text": [
      "/opt/conda/lib/python3.7/site-packages/sklearn/utils/deprecation.py:87: FutureWarning: Function plot_confusion_matrix is deprecated; Function `plot_confusion_matrix` is deprecated in 1.0 and will be removed in 1.2. Use one of the class methods: ConfusionMatrixDisplay.from_predictions or ConfusionMatrixDisplay.from_estimator.\n",
      "  warnings.warn(msg, category=FutureWarning)\n"
     ]
    },
    {
     "data": {
      "text/plain": [
       "<sklearn.metrics._plot.confusion_matrix.ConfusionMatrixDisplay at 0x7f5f5594d310>"
      ]
     },
     "execution_count": 37,
     "metadata": {},
     "output_type": "execute_result"
    },
    {
     "data": {
      "image/png": "[encoded data removed]",
      "text/plain": [
       "<Figure size 432x288 with 2 Axes>"
      ]
     },
     "metadata": {
      "needs_background": "light"
     },
     "output_type": "display_data"
    }
   ],
   "source": [
    "clf_podada = DecisionTreeClassifier(random_state=42,ccp_alpha=0.002232)\n",
    "clf_podada=clf_podada.fit(x_train,y_train)\n",
    "plot_confusion_matrix(clf_podada,x_test,y_test,display_labels=['Died','Survived'])"
   ]
  },
  {
   "cell_type": "code",
   "execution_count": 38,
   "id": "3b3ff1c9",
   "metadata": {
    "execution": {
     "iopub.execute_input": "2022-07-11T03:39:51.177864Z",
     "iopub.status.busy": "2022-07-11T03:39:51.177104Z",
     "iopub.status.idle": "2022-07-11T03:39:51.183663Z",
     "shell.execute_reply": "2022-07-11T03:39:51.182583Z"
    },
    "papermill": {
     "duration": 0.031209,
     "end_time": "2022-07-11T03:39:51.186023",
     "exception": false,
     "start_time": "2022-07-11T03:39:51.154814",
     "status": "completed"
    },
    "tags": []
   },
   "outputs": [],
   "source": [
    "y_chapeu=clf_podada.predict(x_test)"
   ]
  },
  {
   "cell_type": "code",
   "execution_count": 39,
   "id": "51ee25dc",
   "metadata": {
    "execution": {
     "iopub.execute_input": "2022-07-11T03:39:51.229939Z",
     "iopub.status.busy": "2022-07-11T03:39:51.229306Z",
     "iopub.status.idle": "2022-07-11T03:39:51.235921Z",
     "shell.execute_reply": "2022-07-11T03:39:51.234764Z"
    },
    "papermill": {
     "duration": 0.03116,
     "end_time": "2022-07-11T03:39:51.238121",
     "exception": false,
     "start_time": "2022-07-11T03:39:51.206961",
     "status": "completed"
    },
    "tags": []
   },
   "outputs": [
    {
     "data": {
      "text/plain": [
       "0.8161434977578476"
      ]
     },
     "execution_count": 39,
     "metadata": {},
     "output_type": "execute_result"
    }
   ],
   "source": [
    "accuracy_score(y_test,y_chapeu)\n"
   ]
  },
  {
   "cell_type": "code",
   "execution_count": 40,
   "id": "88ad8554",
   "metadata": {
    "execution": {
     "iopub.execute_input": "2022-07-11T03:39:51.282456Z",
     "iopub.status.busy": "2022-07-11T03:39:51.281706Z",
     "iopub.status.idle": "2022-07-11T03:39:51.289623Z",
     "shell.execute_reply": "2022-07-11T03:39:51.288774Z"
    },
    "papermill": {
     "duration": 0.032698,
     "end_time": "2022-07-11T03:39:51.291925",
     "exception": false,
     "start_time": "2022-07-11T03:39:51.259227",
     "status": "completed"
    },
    "tags": []
   },
   "outputs": [],
   "source": [
    "finalizar=pd.DataFrame(test_df['PassengerId'])\n",
    "final=clf_podada.predict(test_df2)\n",
    "final1=pd.DataFrame(final,columns=['Survived'])\n"
   ]
  },
  {
   "cell_type": "code",
   "execution_count": 41,
   "id": "0e52a10e",
   "metadata": {
    "execution": {
     "iopub.execute_input": "2022-07-11T03:39:51.338937Z",
     "iopub.status.busy": "2022-07-11T03:39:51.338231Z",
     "iopub.status.idle": "2022-07-11T03:39:51.348418Z",
     "shell.execute_reply": "2022-07-11T03:39:51.347048Z"
    },
    "papermill": {
     "duration": 0.03782,
     "end_time": "2022-07-11T03:39:51.351560",
     "exception": false,
     "start_time": "2022-07-11T03:39:51.313740",
     "status": "completed"
    },
    "tags": []
   },
   "outputs": [],
   "source": [
    "sub=pd.concat([finalizar,final1],axis=1)\n",
    "sub.to_csv('submission.csv',index=False)\n"
   ]
  },
  {
   "cell_type": "code",
   "execution_count": null,
   "id": "884b267d",
   "metadata": {
    "papermill": {
     "duration": 0.021211,
     "end_time": "2022-07-11T03:39:51.394011",
     "exception": false,
     "start_time": "2022-07-11T03:39:51.372800",
     "status": "completed"
    },
    "tags": []
   },
   "outputs": [],
   "source": []
  },
  {
   "cell_type": "code",
   "execution_count": null,
   "id": "3c549242",
   "metadata": {
    "papermill": {
     "duration": 0.021195,
     "end_time": "2022-07-11T03:39:51.438122",
     "exception": false,
     "start_time": "2022-07-11T03:39:51.416927",
     "status": "completed"
    },
    "tags": []
   },
   "outputs": [],
   "source": []
  }
 ],
 "metadata": {
  "kernelspec": {
   "display_name": "Python 3",
   "language": "python",
   "name": "python3"
  },
  "language_info": {
   "codemirror_mode": {
    "name": "ipython",
    "version": 3
   },
   "file_extension": ".py",
   "mimetype": "text/x-python",
   "name": "python",
   "nbconvert_exporter": "python",
   "pygments_lexer": "ipython3",
   "version": "3.7.12"
  },
  "papermill": {
   "default_parameters": {},
   "duration": 38.885477,
   "end_time": "2022-07-11T03:39:52.283283",
   "environment_variables": {},
   "exception": null,
   "input_path": "__notebook__.ipynb",
   "output_path": "__notebook__.ipynb",
   "parameters": {},
   "start_time": "2022-07-11T03:39:13.397806",
   "version": "2.3.4"
  }
 },
 "nbformat": 4,
 "nbformat_minor": 5
}
